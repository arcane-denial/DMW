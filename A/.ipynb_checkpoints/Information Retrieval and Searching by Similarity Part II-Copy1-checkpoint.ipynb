{
 "cells": [
  {
   "cell_type": "markdown",
   "metadata": {},
   "source": [
    "# Information Retrieval and Searching by Similarity Part II\n",
    "**Prepared by Christian Alis**"
   ]
  },
  {
   "cell_type": "markdown",
   "metadata": {},
   "source": [
    "In the first part, we were able to create a pipeline for solving the information retrieval problem. In this part, we will quantify the performance of our pipeline and try to improve it using normalization or rescaling."
   ]
  },
  {
   "cell_type": "markdown",
   "metadata": {},
   "source": [
    "## Evaluating performance"
   ]
  },
  {
   "cell_type": "markdown",
   "metadata": {},
   "source": [
    "To evaluate the performance of our pipeline, we need to specify whether each returned object is relevant as well as we need to know how many relevant objects are in the database. This is what is known as a form of external validation. If we let the user confirm whether each item in the result is relevant, we can use it as a feedback and improve the results e.g., by using [Rocchio's algorithm](https://en.wikipedia.org/wiki/Rocchio_algorithm). Of course, getting feedback from users may not be straightforward. In fact, we will work with implicit feedback when we develop recommendation systems in BDCC. Furthermore, knowing the number of relevant objects in the database is somewhat a chicken-and-egg problem. \n",
    "\n",
    "For now, we'll make some assumptions. We assume that, in the wines dataset, if we pick a wine from a cultivator as the exemplar, relevant wines are those that came from the same cultivator. Similarly, in the newsgroups dataset, if we pick a post from a newsgroup as the query, relevant posts are those that came from the same newsgroup.\n",
    "\n",
    "Let's load the datasets."
   ]
  },
  {
   "cell_type": "code",
   "execution_count": 106,
   "metadata": {
    "ExecuteTime": {
     "end_time": "2020-06-14T02:52:57.505365Z",
     "start_time": "2020-06-14T02:52:57.016460Z"
    }
   },
   "outputs": [],
   "source": [
    "import numpy as np\n",
    "import pandas as pd\n",
    "import matplotlib.pyplot as plt\n",
    "from numpy.testing import (assert_equal, assert_almost_equal, \n",
    "                           assert_array_equal, assert_array_almost_equal)\n",
    "from pandas.testing import assert_frame_equal"
   ]
  },
  {
   "cell_type": "code",
   "execution_count": 107,
   "metadata": {
    "ExecuteTime": {
     "end_time": "2020-06-14T02:53:10.143366Z",
     "start_time": "2020-06-14T02:52:57.509187Z"
    }
   },
   "outputs": [],
   "source": [
    "from sklearn.datasets import load_wine, fetch_20newsgroups\n",
    "from sklearn.feature_extraction.text import CountVectorizer\n",
    "\n",
    "data_wine = load_wine()\n",
    "df_wine = pd.DataFrame(data_wine['data'], columns=data_wine['feature_names'])\n",
    "target_wine = data_wine['target']\n",
    "\n",
    "data_newsgroups = fetch_20newsgroups(\n",
    "    subset='all', \n",
    "    categories=['comp.graphics', 'rec.autos'],\n",
    "    shuffle=False, \n",
    "    remove=['headers', 'footers', 'quotes'])\n",
    "count_vectorizer = CountVectorizer(token_pattern=r'\\S+')\n",
    "count_vectorizer.fit(data_newsgroups['data'])\n",
    "docs, target_ng = zip(*[\n",
    "    (doc, target) for doc, target \n",
    "    in zip(data_newsgroups['data'], \n",
    "           data_newsgroups['target']) \n",
    "    if doc.strip()])\n",
    "df_bow_ng = pd.DataFrame.sparse.from_spmatrix(\n",
    "    count_vectorizer.transform(docs),\n",
    "    columns=count_vectorizer.get_feature_names()\n",
    ")"
   ]
  },
  {
   "cell_type": "markdown",
   "metadata": {},
   "source": [
    "### Confusion matrix"
   ]
  },
  {
   "cell_type": "markdown",
   "metadata": {},
   "source": [
    "A basic approach for evaluating the performance of the information retrieval pipeline and, in fact, any machine learning classification model, is to create a confusion matrix. The confusion matrix for the information retrieval problem is given by\n",
    "\n",
    "| &nbsp; | Relevant | Irrelevant |\n",
    "|:-------|:--------:|:----------:|\n",
    "| Relevant | TP | FP |\n",
    "| Irrelevant | FN | TN |\n",
    "\n",
    "The rows represent the returned results while the columns represent the actual value (class). The different cells are:\n",
    "\n",
    "* **True positive (TP)**: how many of the returned results, which are implicitly deemed as relevant by the pipeline, is actually relevant\n",
    "* **False positive (FP)**: how many of the returned results are actually not relevant\n",
    "* **False negative (FN)**: how many of the results that were not returned are actually relevant\n",
    "* **True negative (TN)**: how many of the results that were not returned are actually not relevant"
   ]
  },
  {
   "cell_type": "markdown",
   "metadata": {
    "deletable": false,
    "editable": false,
    "nbgrader": {
     "cell_type": "markdown",
     "checksum": "d51191fe946ff591c4aaf7177b84e03d",
     "grade": false,
     "grade_id": "cell-979c036f1312124f",
     "locked": true,
     "schema_version": 3,
     "solution": false
    }
   },
   "source": [
    "**Problem 11**\n",
    "\n",
    "Create a function `get_confusion` that accepts the label of the correct class, the returned results as indices to the objects and all labels, and returns the confusion matrix as a pandas DataFrame."
   ]
  },
  {
   "cell_type": "code",
   "execution_count": 114,
   "metadata": {
    "ExecuteTime": {
     "end_time": "2020-06-14T02:53:10.152079Z",
     "start_time": "2020-06-14T02:53:10.146708Z"
    },
    "deletable": false,
    "nbgrader": {
     "cell_type": "code",
     "checksum": "05e86d54f94405ccd177917f1ed4288f",
     "grade": false,
     "grade_id": "cell-1d1d1ddf65ed9fd2",
     "locked": false,
     "schema_version": 3,
     "solution": true
    }
   },
   "outputs": [],
   "source": [
    "def get_confusion(actual, results, all_labels):\n",
    "    '''\n",
    "    Returns confusion matrix DataFrame with the returned result\n",
    "    as indices from the received label of the current class\n",
    "    '''\n",
    "    all_labels = np.array(all_labels)    \n",
    "    result_labels = all_labels[results]\n",
    "    labels = ['relevant', 'irrelevant']\n",
    "    \n",
    "    tp = len(np.where(result_labels == actual)[0])   \n",
    "    tn = len(results) - tp   \n",
    "    fp = len(np.where(all_labels == actual)[0]) - tp   \n",
    "    fn = len(np.where(all_labels != actual)[0]) - tn   \n",
    "    coef = np.array([[tp , tn], [fp, fn]])    \n",
    "    return pd.DataFrame(coef, columns=labels, index=labels)"
   ]
  },
  {
   "cell_type": "code",
   "execution_count": 115,
   "metadata": {
    "ExecuteTime": {
     "end_time": "2020-06-14T02:53:10.163546Z",
     "start_time": "2020-06-14T02:53:10.153540Z"
    },
    "deletable": false,
    "editable": false,
    "nbgrader": {
     "cell_type": "code",
     "checksum": "a12af63656b2d3998b7629eb3f82671a",
     "grade": true,
     "grade_id": "cell-f4c0782cd77b7522",
     "locked": true,
     "points": 1,
     "schema_version": 3,
     "solution": false
    }
   },
   "outputs": [],
   "source": [
    "assert_frame_equal(\n",
    "    get_confusion(0, [1,2,4], [0,1,2,1,0,0,1,0,1,2]),\n",
    "    pd.DataFrame([[1,2], [3,4]], \n",
    "                 columns=['relevant', 'irrelevant'],\n",
    "                 index=['relevant', 'irrelevant'])\n",
    ")"
   ]
  },
  {
   "cell_type": "markdown",
   "metadata": {},
   "source": [
    "Let's look at the confusion matrix for retrieving the $k$ most similar objects from the query when we use the first wine as the query and $L_2$-norm as the measure."
   ]
  },
  {
   "cell_type": "code",
   "execution_count": 116,
   "metadata": {
    "ExecuteTime": {
     "end_time": "2020-06-14T02:53:10.175882Z",
     "start_time": "2020-06-14T02:53:10.167081Z"
    }
   },
   "outputs": [],
   "source": [
    "def nearest_k(query, objects, k, dist):\n",
    "    \"\"\"Return the indices to objects most similar to query\n",
    "    \n",
    "    Parameters\n",
    "    ----------\n",
    "    query : ndarray\n",
    "        query object represented in the same form vector representation as the\n",
    "        objects\n",
    "    objects : ndarray\n",
    "        vector-represented objects in the database; rows correspond to \n",
    "        objects, columns correspond to features\n",
    "    k : int\n",
    "        number of most similar objects to return\n",
    "    dist : function\n",
    "        accepts two ndarrays as parameters then returns their distance\n",
    "    \n",
    "    Returns\n",
    "    -------\n",
    "    most_similar : ndarray\n",
    "        Indices to the most similar objects in the database\n",
    "    \"\"\"\n",
    "    return np.argsort([dist(query, obj) for obj in objects])[:k]"
   ]
  },
  {
   "cell_type": "code",
   "execution_count": 117,
   "metadata": {
    "ExecuteTime": {
     "end_time": "2020-06-14T02:53:10.201322Z",
     "start_time": "2020-06-14T02:53:10.179453Z"
    }
   },
   "outputs": [
    {
     "data": {
      "text/html": [
       "<div>\n",
       "<style scoped>\n",
       "    .dataframe tbody tr th:only-of-type {\n",
       "        vertical-align: middle;\n",
       "    }\n",
       "\n",
       "    .dataframe tbody tr th {\n",
       "        vertical-align: top;\n",
       "    }\n",
       "\n",
       "    .dataframe thead th {\n",
       "        text-align: right;\n",
       "    }\n",
       "</style>\n",
       "<table border=\"1\" class=\"dataframe\">\n",
       "  <thead>\n",
       "    <tr style=\"text-align: right;\">\n",
       "      <th></th>\n",
       "      <th>relevant</th>\n",
       "      <th>irrelevant</th>\n",
       "    </tr>\n",
       "  </thead>\n",
       "  <tbody>\n",
       "    <tr>\n",
       "      <th>relevant</th>\n",
       "      <td>10</td>\n",
       "      <td>0</td>\n",
       "    </tr>\n",
       "    <tr>\n",
       "      <th>irrelevant</th>\n",
       "      <td>49</td>\n",
       "      <td>119</td>\n",
       "    </tr>\n",
       "  </tbody>\n",
       "</table>\n",
       "</div>"
      ],
      "text/plain": [
       "            relevant  irrelevant\n",
       "relevant          10           0\n",
       "irrelevant        49         119"
      ]
     },
     "execution_count": 117,
     "metadata": {},
     "output_type": "execute_result"
    }
   ],
   "source": [
    "from scipy.spatial.distance import euclidean\n",
    "results = nearest_k(df_wine.iloc[0], df_wine.to_numpy(), 10, euclidean)\n",
    "confusion_wine = get_confusion(target_wine[0], results, target_wine)\n",
    "confusion_wine"
   ]
  },
  {
   "cell_type": "markdown",
   "metadata": {},
   "source": [
    "We do it for the case where we use the first post as the query and cosine distance as the measure."
   ]
  },
  {
   "cell_type": "code",
   "execution_count": 118,
   "metadata": {
    "ExecuteTime": {
     "end_time": "2020-06-14T02:53:12.410356Z",
     "start_time": "2020-06-14T02:53:10.203302Z"
    }
   },
   "outputs": [
    {
     "data": {
      "text/html": [
       "<div>\n",
       "<style scoped>\n",
       "    .dataframe tbody tr th:only-of-type {\n",
       "        vertical-align: middle;\n",
       "    }\n",
       "\n",
       "    .dataframe tbody tr th {\n",
       "        vertical-align: top;\n",
       "    }\n",
       "\n",
       "    .dataframe thead th {\n",
       "        text-align: right;\n",
       "    }\n",
       "</style>\n",
       "<table border=\"1\" class=\"dataframe\">\n",
       "  <thead>\n",
       "    <tr style=\"text-align: right;\">\n",
       "      <th></th>\n",
       "      <th>relevant</th>\n",
       "      <th>irrelevant</th>\n",
       "    </tr>\n",
       "  </thead>\n",
       "  <tbody>\n",
       "    <tr>\n",
       "      <th>relevant</th>\n",
       "      <td>6</td>\n",
       "      <td>4</td>\n",
       "    </tr>\n",
       "    <tr>\n",
       "      <th>irrelevant</th>\n",
       "      <td>931</td>\n",
       "      <td>951</td>\n",
       "    </tr>\n",
       "  </tbody>\n",
       "</table>\n",
       "</div>"
      ],
      "text/plain": [
       "            relevant  irrelevant\n",
       "relevant           6           4\n",
       "irrelevant       931         951"
      ]
     },
     "execution_count": 118,
     "metadata": {},
     "output_type": "execute_result"
    }
   ],
   "source": [
    "from scipy.spatial.distance import cosine\n",
    "results = nearest_k(\n",
    "    df_bow_ng.iloc[0].to_numpy(), \n",
    "    df_bow_ng.to_numpy(), \n",
    "    10, \n",
    "    cosine\n",
    ")\n",
    "confusion_ng = get_confusion(target_ng[0], results, target_ng)\n",
    "confusion_ng"
   ]
  },
  {
   "cell_type": "markdown",
   "metadata": {},
   "source": [
    "What we want is to have all off-diagonal elements to be zero."
   ]
  },
  {
   "cell_type": "markdown",
   "metadata": {},
   "source": [
    "### Precision and recall"
   ]
  },
  {
   "cell_type": "markdown",
   "metadata": {},
   "source": [
    "We introduce two more quality measures. Let $r$ be the number of relevant results and $n$ be the number of relevant objects in the database, then\n",
    "\n",
    "* Precision\n",
    "  - $P = \\frac{r}{k}$\n",
    "  - fraction of relevant results\n",
    "* Recall\n",
    "  - $R = \\frac{r}{n}$\n",
    "  - fraction of relevant objects in the database that were returned\n",
    "  \n",
    "Both precision and recall are from 0 to 1 with 1 the best value."
   ]
  },
  {
   "cell_type": "markdown",
   "metadata": {
    "deletable": false,
    "editable": false,
    "nbgrader": {
     "cell_type": "markdown",
     "checksum": "ab85012ac0decc91b243a4740406127f",
     "grade": false,
     "grade_id": "cell-d6c1ea045975d588",
     "locked": true,
     "schema_version": 3,
     "solution": false
    }
   },
   "source": [
    "**Problem 12**\n",
    "\n",
    "Create a function `precision` that accepts a confusion matrix and returns the precision."
   ]
  },
  {
   "cell_type": "code",
   "execution_count": 134,
   "metadata": {
    "ExecuteTime": {
     "end_time": "2020-06-14T02:53:12.416639Z",
     "start_time": "2020-06-14T02:53:12.412850Z"
    },
    "deletable": false,
    "nbgrader": {
     "cell_type": "code",
     "checksum": "eb74673c79a54bbed41a8e29beaef2a0",
     "grade": false,
     "grade_id": "cell-3eb2c00c4560072e",
     "locked": false,
     "schema_version": 3,
     "solution": true
    }
   },
   "outputs": [],
   "source": [
    "def precision(confusion):\n",
    "    '''Returns precision of the confusion matrix'''\n",
    "    p = confusion.loc['relevant'].relevant/confusion.loc['relevant'].sum()\n",
    "    return p if not np.isnan(p) else 1.0"
   ]
  },
  {
   "cell_type": "code",
   "execution_count": 133,
   "metadata": {
    "ExecuteTime": {
     "end_time": "2020-06-14T02:53:12.430546Z",
     "start_time": "2020-06-14T02:53:12.420597Z"
    },
    "deletable": false,
    "editable": false,
    "nbgrader": {
     "cell_type": "code",
     "checksum": "07dcea174a695c8927d986a4c76f040c",
     "grade": true,
     "grade_id": "cell-4247c3a6bbe996a8",
     "locked": true,
     "points": 1,
     "schema_version": 3,
     "solution": false
    }
   },
   "outputs": [],
   "source": [
    "assert_almost_equal(\n",
    "    precision(\n",
    "        pd.DataFrame(\n",
    "            [[1,2], [3,4]], \n",
    "            columns=['relevant', 'irrelevant'],\n",
    "            index=['relevant', 'irrelevant'])),\n",
    "    0.3333333333333333\n",
    ")"
   ]
  },
  {
   "cell_type": "markdown",
   "metadata": {
    "deletable": false,
    "editable": false,
    "nbgrader": {
     "cell_type": "markdown",
     "checksum": "536ff73d9aef1e201ac894b1675c2727",
     "grade": false,
     "grade_id": "cell-e6c1ea045975d588",
     "locked": true,
     "schema_version": 3,
     "solution": false
    }
   },
   "source": [
    "**Problem 13**\n",
    "\n",
    "Create a function `recall` that accepts a confusion matrix and returns the recall."
   ]
  },
  {
   "cell_type": "code",
   "execution_count": 135,
   "metadata": {
    "ExecuteTime": {
     "end_time": "2020-06-14T02:53:12.439269Z",
     "start_time": "2020-06-14T02:53:12.433606Z"
    },
    "deletable": false,
    "nbgrader": {
     "cell_type": "code",
     "checksum": "f3cad33f6519913e4df5f3e94dcf1b8e",
     "grade": false,
     "grade_id": "cell-4eb2c00c4560072e",
     "locked": false,
     "schema_version": 3,
     "solution": true
    }
   },
   "outputs": [],
   "source": [
    "def recall(confusion):\n",
    "    '''Return recall based on `confusion` matrix'''\n",
    "    return confusion.iloc[0,0]/confusion.iloc[:,0].sum()"
   ]
  },
  {
   "cell_type": "code",
   "execution_count": 136,
   "metadata": {
    "ExecuteTime": {
     "end_time": "2020-06-14T02:53:12.452408Z",
     "start_time": "2020-06-14T02:53:12.442035Z"
    },
    "deletable": false,
    "editable": false,
    "nbgrader": {
     "cell_type": "code",
     "checksum": "01c39deadb87ad286da15f14000391c3",
     "grade": true,
     "grade_id": "cell-5247c3a6bbe996a8",
     "locked": true,
     "points": 1,
     "schema_version": 3,
     "solution": false
    }
   },
   "outputs": [],
   "source": [
    "assert_almost_equal(\n",
    "    recall(\n",
    "        pd.DataFrame(\n",
    "            [[1,2], [3,4]], \n",
    "            columns=['relevant', 'irrelevant'],\n",
    "            index=['relevant', 'irrelevant'])),\n",
    "    0.25\n",
    ")"
   ]
  },
  {
   "cell_type": "markdown",
   "metadata": {},
   "source": [
    "The precision and recall of our sample queries are then:"
   ]
  },
  {
   "cell_type": "code",
   "execution_count": 137,
   "metadata": {
    "ExecuteTime": {
     "end_time": "2020-06-14T03:14:19.193456Z",
     "start_time": "2020-06-14T03:14:19.179856Z"
    }
   },
   "outputs": [
    {
     "name": "stdout",
     "output_type": "stream",
     "text": [
      "Precision of first wine as query: 1.00\n",
      "Recall of first wine as query: 0.17\n",
      "Precision of first post as query: 0.60\n",
      "Recall of first post as query: 0.01\n"
     ]
    }
   ],
   "source": [
    "print(f'Precision of first wine as query: {precision(confusion_wine):0.2f}')\n",
    "print(f'Recall of first wine as query: {recall(confusion_wine):0.2f}')\n",
    "print(f'Precision of first post as query: {precision(confusion_ng):0.2f}')\n",
    "print(f'Recall of first post as query: {recall(confusion_ng):0.2f}')"
   ]
  },
  {
   "cell_type": "markdown",
   "metadata": {},
   "source": [
    "### $F$-measure"
   ]
  },
  {
   "cell_type": "markdown",
   "metadata": {},
   "source": [
    "If we want to use a single number to describe both precision and recall, we can use the $F$-measure or $F$-score,\n",
    "\n",
    "$$F_\\beta = (1 + \\beta^2) \\cdot \\frac{P \\cdot R}{(\\beta^2 \\cdot P) + R}.$$\n",
    "\n",
    "In the usual case, $\\beta=1$, it is the harmonic mean of precision and recall, and is known as the $F_1$-measure or balance $F$-measure. It gives equal importance to both precision and recall. If it is more important that the results that we get are correct than being able to identify all relevant objects, then we give more importance to precision and we set $\\beta > 1$. If a false negative is less desired than being able to identify possibly relevant objects, then we give more importance to recall and set $0 < \\beta < 1$."
   ]
  },
  {
   "cell_type": "markdown",
   "metadata": {
    "deletable": false,
    "editable": false,
    "nbgrader": {
     "cell_type": "markdown",
     "checksum": "82fee414bf2ce79e140ca1f43a4cba84",
     "grade": false,
     "grade_id": "cell-820e95f4c08d88ed",
     "locked": true,
     "schema_version": 3,
     "solution": false
    }
   },
   "source": [
    "**Problem 14**\n",
    "\n",
    "Create a function `f_measure` that accepts the `precision`, `recall` and `beta`, and returns the $F$-measure."
   ]
  },
  {
   "cell_type": "code",
   "execution_count": 138,
   "metadata": {
    "ExecuteTime": {
     "end_time": "2020-06-14T02:53:12.477261Z",
     "start_time": "2020-06-14T02:53:12.472217Z"
    },
    "deletable": false,
    "nbgrader": {
     "cell_type": "code",
     "checksum": "8792ec65efc433f4914713e0866ed946",
     "grade": false,
     "grade_id": "cell-d7ae36e675b1619a",
     "locked": false,
     "schema_version": 3,
     "solution": true
    }
   },
   "outputs": [],
   "source": [
    "def f_measure(precision, recall, beta=1):\n",
    "    '''Returns f-measure from precision, recall, and beta'''\n",
    "    f_measure = (1+beta**2)*(precision*recall)/(beta**2*precision+recall)\n",
    "    return f_measure"
   ]
  },
  {
   "cell_type": "code",
   "execution_count": 139,
   "metadata": {
    "ExecuteTime": {
     "end_time": "2020-06-14T02:53:12.490731Z",
     "start_time": "2020-06-14T02:53:12.479957Z"
    },
    "deletable": false,
    "editable": false,
    "nbgrader": {
     "cell_type": "code",
     "checksum": "14afaab790e74da1a22e6879d48b122c",
     "grade": true,
     "grade_id": "cell-aa5977937adc83bb",
     "locked": true,
     "points": 1,
     "schema_version": 3,
     "solution": false
    }
   },
   "outputs": [],
   "source": [
    "assert_almost_equal(f_measure(0.7, 0.7), 0.7)\n",
    "assert_almost_equal(f_measure(0.5, 0.7), 0.5833333333333334)\n",
    "assert_almost_equal(f_measure(0.7, 0.7, 2), 0.7)\n",
    "assert_almost_equal(f_measure(0.5, 0.7, 2), 0.6481481481481481)\n",
    "assert_almost_equal(f_measure(0.7, 0.7, 0.5), 0.7)\n",
    "assert_almost_equal(f_measure(0.5, 0.7, 0.5), 0.5303030303030303)"
   ]
  },
  {
   "cell_type": "code",
   "execution_count": 140,
   "metadata": {
    "ExecuteTime": {
     "end_time": "2020-06-14T02:53:12.516358Z",
     "start_time": "2020-06-14T02:53:12.493831Z"
    }
   },
   "outputs": [
    {
     "name": "stdout",
     "output_type": "stream",
     "text": [
      "F1-score for the first wine as query: 0.29\n",
      "F1-score for the first post as query: 0.01\n",
      "F2-score for the first wine as query: 0.20\n",
      "F2-score for the first post as query: 0.01\n",
      "F0.5-score for the first wine as query: 0.51\n",
      "F0.5-score for the first post as query: 0.03\n"
     ]
    }
   ],
   "source": [
    "print('F1-score for the first wine as query: %0.2f' % \n",
    "      f_measure(precision(confusion_wine), recall(confusion_wine)))\n",
    "print('F1-score for the first post as query: %0.2f' % \n",
    "      f_measure(precision(confusion_ng), recall(confusion_ng)))\n",
    "print('F2-score for the first wine as query: %0.2f' % \n",
    "      f_measure(precision(confusion_wine), recall(confusion_wine), 2))\n",
    "print('F2-score for the first post as query: %0.2f' % \n",
    "      f_measure(precision(confusion_ng), recall(confusion_ng), 2))\n",
    "print('F0.5-score for the first wine as query: %0.2f' % \n",
    "      f_measure(precision(confusion_wine), recall(confusion_wine), 0.5))\n",
    "print('F0.5-score for the first post as query: %0.2f' % \n",
    "      f_measure(precision(confusion_ng), recall(confusion_ng), 0.5))"
   ]
  },
  {
   "cell_type": "markdown",
   "metadata": {},
   "source": [
    "### PR curve"
   ]
  },
  {
   "cell_type": "markdown",
   "metadata": {},
   "source": [
    "The thing with precision and recall is that their value is influenced by the choice of $k$. If we set $k=1$, for example, then it's very likely that the object that we returned is relevant, thus, a precision value of 1, but recall will be small because you won't be able to return all relevant objects. In the other extreme, if we set $k=N$ where $N$ is the number of objects in the database then obviously, recall with have a value of 1 but precision suffers because irrelevant objects will be included in the results. There is thus a trade-off between precision and recall and this can be visualized using a precision-recall (PR) curve. "
   ]
  },
  {
   "cell_type": "markdown",
   "metadata": {
    "deletable": false,
    "editable": false,
    "nbgrader": {
     "cell_type": "markdown",
     "checksum": "f93f6998166124ac515821330c96393c",
     "grade": false,
     "grade_id": "cell-3ef00d556a2bbca0",
     "locked": true,
     "schema_version": 3,
     "solution": false
    }
   },
   "source": [
    "**Problem 15**\n",
    "\n",
    "Create a function `pr_curve` that accepts a `query`, a database of `objects`, a distance function `dist`, `actual` label and `all_labels` and returns a PR curve in the form of a matplotlib Axes. The plot should be a step plot with labels `precision` and `recall`. Both axes should be from 0 to 1 and the aspect ratio should be `equal`."
   ]
  },
  {
   "cell_type": "code",
   "execution_count": 141,
   "metadata": {
    "ExecuteTime": {
     "end_time": "2020-06-14T02:53:12.534342Z",
     "start_time": "2020-06-14T02:53:12.519965Z"
    },
    "deletable": false,
    "nbgrader": {
     "cell_type": "code",
     "checksum": "c7a8b530c8ed073fc872726ecf7d5759",
     "grade": false,
     "grade_id": "cell-78d6fc289ef7ac6a",
     "locked": false,
     "schema_version": 3,
     "solution": true
    }
   },
   "outputs": [],
   "source": [
    "def pr_curve(query, objects, dist, actual, all_labels):\n",
    "    '''Returns PR curve using matplotlib Axes'''\n",
    "    all_labels = np.asarray(all_labels)\n",
    "    results = nearest_k(query, objects, len(all_labels), dist)\n",
    "    rs = (all_labels[results] == actual).cumsum()\n",
    "    N = (all_labels == actual).sum()\n",
    "    precisions = rs / np.arange(1, len(rs)+1)\n",
    "    recalls = rs / N\n",
    "    recalls = [0] + recalls.tolist()\n",
    "    precisions = [1] + precisions.tolist()\n",
    "    \n",
    "    fig, ax = plt.subplots()\n",
    "    ax.set_aspect('equal')\n",
    "    ax.step(recalls, precisions, where='post')\n",
    "    ax.fill_between(recalls, precisions, step='post', alpha=0.8)\n",
    "    \n",
    "    ax.set_xlim(0,1)\n",
    "    ax.set_ylim(0,1)\n",
    "    ax.set_xlabel('recall')\n",
    "    ax.set_ylabel('precision');\n",
    "    return ax    "
   ]
  },
  {
   "cell_type": "code",
   "execution_count": 23,
   "metadata": {
    "ExecuteTime": {
     "end_time": "2020-06-14T02:53:12.714327Z",
     "start_time": "2020-06-14T02:53:12.537505Z"
    },
    "deletable": false,
    "editable": false,
    "nbgrader": {
     "cell_type": "code",
     "checksum": "130316a206b33414e81eb3dc0e533b38",
     "grade": true,
     "grade_id": "cell-45073d51ee494f27",
     "locked": true,
     "points": 1,
     "schema_version": 3,
     "solution": false
    }
   },
   "outputs": [
    {
     "data": {
      "image/png": "[encoded data removed]",
      "text/plain": [
       "<Figure size 432x288 with 1 Axes>"
      ]
     },
     "metadata": {
      "needs_background": "light"
     },
     "output_type": "display_data"
    }
   ],
   "source": [
    "objects = np.array([[5, 6, 7],\n",
    "                    [8, 9, 10],\n",
    "                    [3, 2, 1],\n",
    "                    [1, 2, 3],\n",
    "                    [4, 5, 6]])\n",
    "ax = pr_curve(np.array([1, 2, 3]), objects, euclidean, 0, [0,1,1,0,2])\n",
    "assert_array_almost_equal(\n",
    "    ax.get_xticks(), \n",
    "    [0. , 0.2, 0.4, 0.6, 0.8, 1. ]\n",
    ")\n",
    "assert_array_almost_equal(\n",
    "    ax.get_yticks(), \n",
    "    [0. , 0.2, 0.4, 0.6, 0.8, 1. ]\n",
    ")\n",
    "assert_equal(ax.get_xlabel(), 'recall')\n",
    "assert_equal(ax.get_ylabel(), 'precision')\n",
    "assert_almost_equal(\n",
    "    ax.lines[0].get_data()[0], \n",
    "    [0. , 0.5, 0.5, 0.5, 1. , 1. ]\n",
    ")\n",
    "assert_almost_equal(\n",
    "    ax.lines[0].get_data()[1], \n",
    "    [1., 1., 0.5, 0.33333333, 0.5, 0.4]\n",
    ")\n",
    "assert_equal(ax.get_aspect(), 'equal')"
   ]
  },
  {
   "cell_type": "markdown",
   "metadata": {},
   "source": [
    "Let's now look at the PR curves of the sample queries."
   ]
  },
  {
   "cell_type": "code",
   "execution_count": 142,
   "metadata": {
    "ExecuteTime": {
     "end_time": "2020-06-14T02:53:12.844302Z",
     "start_time": "2020-06-14T02:53:12.716365Z"
    }
   },
   "outputs": [
    {
     "data": {
      "image/png": "[encoded data removed]",
      "text/plain": [
       "<Figure size 432x288 with 1 Axes>"
      ]
     },
     "metadata": {
      "needs_background": "light"
     },
     "output_type": "display_data"
    }
   ],
   "source": [
    "ax = pr_curve(df_wine.iloc[0], df_wine.to_numpy(), euclidean, target_wine[0], \n",
    "              target_wine)\n",
    "ax.set_title('First wine as query');"
   ]
  },
  {
   "cell_type": "code",
   "execution_count": 143,
   "metadata": {
    "ExecuteTime": {
     "end_time": "2020-06-14T02:53:15.176548Z",
     "start_time": "2020-06-14T02:53:12.846476Z"
    }
   },
   "outputs": [
    {
     "data": {
      "image/png": "[encoded data removed]",
      "text/plain": [
       "<Figure size 432x288 with 1 Axes>"
      ]
     },
     "metadata": {
      "needs_background": "light"
     },
     "output_type": "display_data"
    }
   ],
   "source": [
    "ax = pr_curve(\n",
    "    df_bow_ng.iloc[0].to_numpy(), \n",
    "    df_bow_ng.to_numpy(), \n",
    "    cosine, \n",
    "    target_ng[0], \n",
    "    target_ng\n",
    ")\n",
    "ax.set_title('First post as query');"
   ]
  },
  {
   "cell_type": "markdown",
   "metadata": {},
   "source": [
    "### AUC-PR"
   ]
  },
  {
   "cell_type": "markdown",
   "metadata": {},
   "source": [
    "Ideally, we want the entire area to be covered--we want the precision to be always 1 regardless of the value of recall. Recall is always from 0 ($k=0$) to 1 ($k=N$). To quantify this, we can compute the area under the PR curve (AUC-PR). The desired value is 1."
   ]
  },
  {
   "cell_type": "markdown",
   "metadata": {
    "deletable": false,
    "editable": false,
    "nbgrader": {
     "cell_type": "markdown",
     "checksum": "4c898d9ba0c377f217caa151541331c9",
     "grade": false,
     "grade_id": "cell-aa7a5878045133e4",
     "locked": true,
     "schema_version": 3,
     "solution": false
    }
   },
   "source": [
    "**Problem 16**\n",
    "\n",
    "Create a function `auc_pr` that accepts a `query`, a database of `objects`, a distance function `dist`, `actual` label and `all_labels` and returns the area under the PR curve. "
   ]
  },
  {
   "cell_type": "code",
   "execution_count": 147,
   "metadata": {
    "ExecuteTime": {
     "end_time": "2020-06-14T02:53:15.190117Z",
     "start_time": "2020-06-14T02:53:15.180187Z"
    },
    "deletable": false,
    "nbgrader": {
     "cell_type": "code",
     "checksum": "990aa74123b9631269a0bd61e78131b7",
     "grade": false,
     "grade_id": "cell-c95df56e7d83c10c",
     "locked": false,
     "schema_version": 3,
     "solution": true
    }
   },
   "outputs": [],
   "source": [
    "def auc_pr(query, objects, dist, actual, all_labels):\n",
    "    '''Returns the area under the Curve (PR)'''\n",
    "    p, r = [1], [0]\n",
    "    k = len(all_labels)\n",
    "   \n",
    "    results = nearest_k(query, objects, k, dist)\n",
    "   \n",
    "    for j in range(1, k+1):\n",
    "        df = get_confusion(actual, results[:j], all_labels)\n",
    "        p.append(precision(df))\n",
    "        r.append(recall(df))\n",
    "       \n",
    "    area = np.trapz(p,r)\n",
    "    return area"
   ]
  },
  {
   "cell_type": "code",
   "execution_count": 148,
   "metadata": {
    "ExecuteTime": {
     "end_time": "2020-06-14T02:53:15.255797Z",
     "start_time": "2020-06-14T02:53:15.192581Z"
    },
    "deletable": false,
    "editable": false,
    "nbgrader": {
     "cell_type": "code",
     "checksum": "1fe279700ef893a7559ea86715dfd764",
     "grade": true,
     "grade_id": "cell-39c10754e7301e17",
     "locked": true,
     "points": 1,
     "schema_version": 3,
     "solution": false
    }
   },
   "outputs": [],
   "source": [
    "assert_almost_equal(\n",
    "    auc_pr(np.array([1, 2, 3]), objects, euclidean, 0, [0,1,1,0,2]), \n",
    "    0.7083333333333333\n",
    ")"
   ]
  },
  {
   "cell_type": "markdown",
   "metadata": {},
   "source": [
    "The AUC-PR of the sample queries are below."
   ]
  },
  {
   "cell_type": "code",
   "execution_count": 149,
   "metadata": {
    "ExecuteTime": {
     "end_time": "2020-06-14T03:14:47.866279Z",
     "start_time": "2020-06-14T03:14:45.695233Z"
    }
   },
   "outputs": [
    {
     "name": "stdout",
     "output_type": "stream",
     "text": [
      "The AUC-PR for the first wine as query: 0.88.\n",
      "The AUC-PR for the first post as query: 0.59.\n"
     ]
    }
   ],
   "source": [
    "print('The AUC-PR for the first wine as query: %0.2f.' % \n",
    "      auc_pr(df_wine.iloc[0], df_wine.to_numpy(), euclidean, \n",
    "             target_wine[0], target_wine))\n",
    "print('The AUC-PR for the first post as query: {:0.2f}.'.format(\n",
    "      auc_pr(df_bow_ng.iloc[0].to_numpy(), \n",
    "             df_bow_ng.to_numpy(), \n",
    "             cosine, \n",
    "             target_ng[0], \n",
    "             target_ng)))"
   ]
  },
  {
   "cell_type": "markdown",
   "metadata": {},
   "source": [
    "## Normalization"
   ]
  },
  {
   "cell_type": "markdown",
   "metadata": {},
   "source": [
    "Now that we have a measure of performance, we can try to improve our pipeline and see how each of our attempts improves or degrades the performance.\n",
    "\n",
    "For the rest of this lecture, we will try to improve the performance using normalization or rescaling. Why would normalization be beneficial? Let's say our dataset is composed of cities, and our features are population and median age. When we use a distance measure such as $L_p$-norm, we are in fact assuming that each dimension is equal. That is, an increase of 1 in one dimension is conceptually the same as an increase of 1 in another dimension. In the case of the cities dataset, an increase of 1 in the population, which is in the thousands, is unlikely to be conceptually of equal importance as an increase of 1 in the age. By normalizing, we can make all dimensions to be of comparable magnitude and range so that the same numerical change in any dimension are conceptually comparable.\n",
    "\n",
    "Note that one can also assign a weight for each dimension and we can use instead the weighted Minkowski distance,\n",
    "$$L_p(\\vec v_1, \\vec v_2) = \\left(\\sum_i a_i \\left| \\vec v_{1_i} - \\vec v_{2_i} \\right|^p \\right)^{1/p}$$\n",
    "where $a_i$ the weight assigned for the $i$th dimension. $L_p$-norm is also known as the Minkowski distance.\n",
    "\n",
    "In the case of text, words are not equally informative. Words that frequently occur in multiple documents may not be very helpful so we want to lower their importance by normalizing them with their document occurence."
   ]
  },
  {
   "cell_type": "markdown",
   "metadata": {},
   "source": [
    "### Standardization"
   ]
  },
  {
   "cell_type": "markdown",
   "metadata": {},
   "source": [
    "Standardization is a form of normalization where we transform each value $x$ to their $z$-score,\n",
    "\n",
    "$$z = \\frac{x-\\bar x}{\\sigma},$$\n",
    "\n",
    "where $\\bar x$ is the mean of that feature and $\\sigma$ is the standard deviation of that feature. If you perform this on all features then all features would have a mean of 0 and a standard deviation of 1."
   ]
  },
  {
   "cell_type": "markdown",
   "metadata": {
    "deletable": false,
    "editable": false,
    "nbgrader": {
     "cell_type": "markdown",
     "checksum": "fa1b12f71444ebe24a1a6f74b62b8e94",
     "grade": false,
     "grade_id": "cell-ddcdd5c6c28d0726",
     "locked": true,
     "schema_version": 3,
     "solution": false
    }
   },
   "source": [
    "**Problem 17**\n",
    "\n",
    "Complete the `Standardizer` class below."
   ]
  },
  {
   "cell_type": "code",
   "execution_count": 152,
   "metadata": {
    "ExecuteTime": {
     "end_time": "2020-06-14T02:53:17.453950Z",
     "start_time": "2020-06-14T02:53:17.448864Z"
    },
    "deletable": false,
    "nbgrader": {
     "cell_type": "code",
     "checksum": "7c24ecddddc3c438e5429886075c59a7",
     "grade": false,
     "grade_id": "cell-94908833138f9309",
     "locked": false,
     "schema_version": 3,
     "solution": true
    }
   },
   "outputs": [],
   "source": [
    "class Standardizer:\n",
    "    '''Standardize normalization by transforming values to z-score'''\n",
    "   \n",
    "    def __init__(self, df):\n",
    "        '''Store the mean and standard deviation of each column'''\n",
    "        self.mean = df.mean()\n",
    "        self.std = df.std()\n",
    "       \n",
    "    def standardize(self, values):\n",
    "        '''Standardize values per column'''\n",
    "        z = (values - self.mean) / self.std\n",
    "        return z"
   ]
  },
  {
   "cell_type": "code",
   "execution_count": 153,
   "metadata": {
    "ExecuteTime": {
     "end_time": "2020-06-14T02:53:17.481323Z",
     "start_time": "2020-06-14T02:53:17.456166Z"
    },
    "deletable": false,
    "editable": false,
    "nbgrader": {
     "cell_type": "code",
     "checksum": "a7fb97d49755cb78a2df4edb0fb58ba4",
     "grade": true,
     "grade_id": "cell-0419ea3800dd2376",
     "locked": true,
     "points": 1,
     "schema_version": 3,
     "solution": false
    }
   },
   "outputs": [],
   "source": [
    "df_test = pd.DataFrame([[5, 6, 7],\n",
    "                        [8, 9, 10],\n",
    "                        [3, 2, 1],\n",
    "                        [1, 2, 3],\n",
    "                        [4, 5, 6]])\n",
    "standardizer = Standardizer(df_test)\n",
    "assert_frame_equal(\n",
    "    standardizer.standardize(df_test),\n",
    "    pd.DataFrame(\n",
    "        [[0.30906696,  0.4068381,  0.45621276],\n",
    "         [1.46806808,  1.42393336,  1.31161168],\n",
    "         [-0.46360045, -0.94928891, -1.25458509],\n",
    "         [-1.23626785, -0.94928891, -0.68431914],\n",
    "         [-0.07726674,  0.06780635,  0.17107978]]))"
   ]
  },
  {
   "cell_type": "markdown",
   "metadata": {},
   "source": [
    "Let's see if standardizing the wines design matrix would improve the performance."
   ]
  },
  {
   "cell_type": "code",
   "execution_count": 154,
   "metadata": {
    "ExecuteTime": {
     "end_time": "2020-06-14T02:53:17.649125Z",
     "start_time": "2020-06-14T02:53:17.483528Z"
    }
   },
   "outputs": [
    {
     "data": {
      "image/png": "[encoded data removed]",
      "text/plain": [
       "<Figure size 432x288 with 1 Axes>"
      ]
     },
     "metadata": {
      "needs_background": "light"
     },
     "output_type": "display_data"
    }
   ],
   "source": [
    "standardizer = Standardizer(df_wine)\n",
    "ax = pr_curve(standardizer.standardize(df_wine.iloc[0]),\n",
    "              standardizer.standardize(df_wine).to_numpy(),\n",
    "              euclidean, target_wine[0],\n",
    "              target_wine)\n",
    "ax.set_title('First wine as query')\n",
    "ax.text(0.65, 0.8,\n",
    "        'AUC={:0.2f}'.format(\n",
    "            auc_pr(standardizer.standardize(df_wine.iloc[0]),\n",
    "                   standardizer.standardize(df_wine).to_numpy(),\n",
    "                   euclidean, target_wine[0], \n",
    "                   target_wine)),\n",
    "         fontsize=12);"
   ]
  },
  {
   "cell_type": "markdown",
   "metadata": {},
   "source": [
    "### Min-max scaling"
   ]
  },
  {
   "cell_type": "markdown",
   "metadata": {},
   "source": [
    "Min-max scaling rescales the feature values into the range [0, 1] by following the transformation,\n",
    "\n",
    "$$x' = \\frac{x - x_\\text{min}}{x_\\text{max}-x_\\text{min}}.$$\n",
    "\n",
    "This scaling is useful if the values are bounded and there are no outliers."
   ]
  },
  {
   "cell_type": "markdown",
   "metadata": {
    "deletable": false,
    "editable": false,
    "nbgrader": {
     "cell_type": "markdown",
     "checksum": "05b7b5b7bc98a5e20630b84c22659b56",
     "grade": false,
     "grade_id": "cell-86ed046652579487",
     "locked": true,
     "schema_version": 3,
     "solution": false
    }
   },
   "source": [
    "**Problem 18**\n",
    "\n",
    "Complete the `MinMax` class below."
   ]
  },
  {
   "cell_type": "code",
   "execution_count": 156,
   "metadata": {
    "ExecuteTime": {
     "end_time": "2020-06-14T02:53:17.661762Z",
     "start_time": "2020-06-14T02:53:17.653093Z"
    },
    "deletable": false,
    "nbgrader": {
     "cell_type": "code",
     "checksum": "057e440e2c0779a1c1448788c228b7db",
     "grade": false,
     "grade_id": "cell-6586fca5347b0596",
     "locked": false,
     "schema_version": 3,
     "solution": true
    }
   },
   "outputs": [],
   "source": [
    "class MinMax:\n",
    "    '''Rescales the feature values into the range[0,1]'''\n",
    "    \n",
    "    def __init__(self, df):\n",
    "        '''Store the minimum and maximum values of each column'''\n",
    "        self.d_min = df.min()\n",
    "        self.d_max = df.max()\n",
    "        \n",
    "    \n",
    "    def minmax(self, values):\n",
    "        '''Standard values per column'''\n",
    "        return (values - self.d_min) / (self.d_max - self.d_min) "
   ]
  },
  {
   "cell_type": "code",
   "execution_count": 157,
   "metadata": {
    "ExecuteTime": {
     "end_time": "2020-06-14T02:53:17.686608Z",
     "start_time": "2020-06-14T02:53:17.664274Z"
    },
    "deletable": false,
    "editable": false,
    "nbgrader": {
     "cell_type": "code",
     "checksum": "20409c1a9302fcd503a1fc832c781665",
     "grade": true,
     "grade_id": "cell-85b2543a18e7eec3",
     "locked": true,
     "points": 1,
     "schema_version": 3,
     "solution": false
    }
   },
   "outputs": [],
   "source": [
    "df_test = pd.DataFrame([[5, 6, 7],\n",
    "                        [8, 9, 10],\n",
    "                        [3, 2, 1],\n",
    "                        [1, 2, 3],\n",
    "                        [4, 5, 6]])\n",
    "minmax = MinMax(df_test)\n",
    "assert_frame_equal(\n",
    "    minmax.minmax(df_test),\n",
    "    pd.DataFrame(\n",
    "        [[0.57142857, 0.57142857, 0.66666667],\n",
    "         [1.        , 1.        , 1.        ],\n",
    "         [0.28571429, 0.        , 0.        ],\n",
    "         [0.        , 0.        , 0.22222222],\n",
    "         [0.42857143, 0.42857143, 0.55555556]]))"
   ]
  },
  {
   "cell_type": "markdown",
   "metadata": {},
   "source": [
    "Trying it out on the sample query:"
   ]
  },
  {
   "cell_type": "code",
   "execution_count": 158,
   "metadata": {
    "ExecuteTime": {
     "end_time": "2020-06-14T02:53:17.846751Z",
     "start_time": "2020-06-14T02:53:17.688550Z"
    }
   },
   "outputs": [
    {
     "data": {
      "image/png": "[encoded data removed]",
      "text/plain": [
       "<Figure size 432x288 with 1 Axes>"
      ]
     },
     "metadata": {
      "needs_background": "light"
     },
     "output_type": "display_data"
    }
   ],
   "source": [
    "minmax = MinMax(df_wine)\n",
    "ax = pr_curve(minmax.minmax(df_wine.iloc[0]),\n",
    "              minmax.minmax(df_wine).to_numpy(),\n",
    "              euclidean, target_wine[0],\n",
    "              target_wine)\n",
    "ax.set_title('First wine as query')\n",
    "ax.text(0.65, 0.8,\n",
    "        'AUC={:0.2f}'.format(\n",
    "            auc_pr(minmax.minmax(df_wine.iloc[0]),\n",
    "                   minmax.minmax(df_wine).to_numpy(),\n",
    "                   euclidean, target_wine[0], \n",
    "                   target_wine)),\n",
    "         fontsize=12);"
   ]
  },
  {
   "cell_type": "markdown",
   "metadata": {},
   "source": [
    "### TF-IDF model"
   ]
  },
  {
   "cell_type": "markdown",
   "metadata": {},
   "source": [
    "The document frequency of a word (or term or token) $w$ is the number of documents that word appeared in. The inverse document frequency of a word is given by\n",
    "\n",
    "$$\\text{idf}_w = \\log{\\frac{n}{n_w}},$$\n",
    "\n",
    "where $n$ is the number of documents in the corpus and $n_w$ is the number of documents the word appeared in.\n",
    "As mentioned above, a word occuring in all documents won't be as useful as a word that occurs in fewer documents especially if they occur only in relevant documents. We can use the idf as a weight so that popular words are deemphasized and this is known as the TF-IDF model."
   ]
  },
  {
   "cell_type": "markdown",
   "metadata": {
    "deletable": false,
    "editable": false,
    "nbgrader": {
     "cell_type": "markdown",
     "checksum": "4222be5e334b85850b7032f06e061716",
     "grade": false,
     "grade_id": "cell-c04f5ea7127fdaa6",
     "locked": true,
     "schema_version": 3,
     "solution": false
    }
   },
   "source": [
    "**Problem 19**\n",
    "\n",
    "Complete the `TFIDF` class below."
   ]
  },
  {
   "cell_type": "code",
   "execution_count": 159,
   "metadata": {
    "ExecuteTime": {
     "end_time": "2020-06-14T02:53:17.852625Z",
     "start_time": "2020-06-14T02:53:17.848458Z"
    },
    "deletable": false,
    "nbgrader": {
     "cell_type": "code",
     "checksum": "ab522a14b3359408d22e5b8de70c3737",
     "grade": false,
     "grade_id": "cell-92d5cf5836f6af67",
     "locked": false,
     "schema_version": 3,
     "solution": true
    }
   },
   "outputs": [],
   "source": [
    "class TFIDF:\n",
    "    '''Perform normalization by `TFIDF' '''\n",
    "    def __init__(self, df):\n",
    "        '''Store the idf of each column'''\n",
    "        self.idf = np.log(len(df) / (df > 0).sum(axis=0))    \n",
    "        \n",
    "    def __str__(self):\n",
    "        \n",
    "        return self.idf.to_string()\n",
    "    \n",
    "    def tfidf(self, values):\n",
    "       \n",
    "        return self.idf * values"
   ]
  },
  {
   "cell_type": "code",
   "execution_count": 160,
   "metadata": {
    "ExecuteTime": {
     "end_time": "2020-06-14T02:53:17.868645Z",
     "start_time": "2020-06-14T02:53:17.854320Z"
    },
    "deletable": false,
    "editable": false,
    "nbgrader": {
     "cell_type": "code",
     "checksum": "2dcad9495ae58565a2ec51b0a88def47",
     "grade": true,
     "grade_id": "cell-e82f014a3463dcbc",
     "locked": true,
     "points": 1,
     "schema_version": 3,
     "solution": false
    }
   },
   "outputs": [],
   "source": [
    "df_test = pd.DataFrame([[5, 6, 0],\n",
    "                        [8, 9, 10],\n",
    "                        [0, 2, 0],\n",
    "                        [1, 2, 0],\n",
    "                        [0, 5, 0]])\n",
    "tfidf = TFIDF(df_test)\n",
    "assert_frame_equal(\n",
    "    tfidf.tfidf(df_test),\n",
    "    pd.DataFrame(\n",
    "        [[ 2.55412812,  0.        ,  0.        ],\n",
    "         [ 4.08660499,  0.        , 16.09437912],\n",
    "         [ 0.        ,  0.        ,  0.        ],\n",
    "         [ 0.51082562,  0.        ,  0.        ],\n",
    "         [ 0.        ,  0.        ,  0.        ]]))"
   ]
  },
  {
   "cell_type": "markdown",
   "metadata": {},
   "source": [
    "We try it on our sample query."
   ]
  },
  {
   "cell_type": "code",
   "execution_count": 161,
   "metadata": {
    "ExecuteTime": {
     "end_time": "2020-06-14T02:53:42.127828Z",
     "start_time": "2020-06-14T02:53:17.870171Z"
    }
   },
   "outputs": [
    {
     "data": {
      "image/png": "[encoded data removed]",
      "text/plain": [
       "<Figure size 432x288 with 1 Axes>"
      ]
     },
     "metadata": {
      "needs_background": "light"
     },
     "output_type": "display_data"
    }
   ],
   "source": [
    "tfidf = TFIDF(df_bow_ng)\n",
    "ax = pr_curve(tfidf.tfidf(df_bow_ng.iloc[0]).to_numpy(),\n",
    "              tfidf.tfidf(df_bow_ng).to_numpy(),\n",
    "              cosine, target_ng[0],\n",
    "              target_ng)\n",
    "ax.set_title('First post as query')\n",
    "ax.text(0.65, 0.8,\n",
    "        'AUC={:0.2f}'.format(\n",
    "            auc_pr(tfidf.tfidf(df_bow_ng.iloc[0]).to_numpy(),\n",
    "                   tfidf.tfidf(df_bow_ng).to_numpy(),\n",
    "                   cosine, target_ng[0], \n",
    "                   target_ng)),\n",
    "         fontsize=12);"
   ]
  },
  {
   "cell_type": "markdown",
   "metadata": {},
   "source": [
    "### Document length normalization"
   ]
  },
  {
   "cell_type": "markdown",
   "metadata": {},
   "source": [
    "So far, we've been using cosine similarity/distance for text. Let's see what will happen if we use Manhattan and Euclidean distance instead."
   ]
  },
  {
   "cell_type": "code",
   "execution_count": 162,
   "metadata": {
    "ExecuteTime": {
     "end_time": "2020-06-14T02:53:46.077335Z",
     "start_time": "2020-06-14T02:53:42.132426Z"
    }
   },
   "outputs": [
    {
     "data": {
      "image/png": "[encoded data removed]",
      "text/plain": [
       "<Figure size 432x288 with 1 Axes>"
      ]
     },
     "metadata": {
      "needs_background": "light"
     },
     "output_type": "display_data"
    }
   ],
   "source": [
    "from scipy.spatial.distance import cityblock\n",
    "ax = pr_curve(df_bow_ng.iloc[0].to_numpy(),\n",
    "              df_bow_ng.to_numpy(),\n",
    "              cityblock, target_ng[0],\n",
    "              target_ng)\n",
    "ax.set_title('Manhattan distance')\n",
    "ax.text(0.65, 0.8,\n",
    "        'AUC={:0.2f}'.format(\n",
    "            auc_pr(df_bow_ng.iloc[0].to_numpy(),\n",
    "                   df_bow_ng.to_numpy(),\n",
    "                   cityblock, target_ng[0], \n",
    "                   target_ng)),\n",
    "         fontsize=12);"
   ]
  },
  {
   "cell_type": "code",
   "execution_count": 163,
   "metadata": {
    "ExecuteTime": {
     "end_time": "2020-06-14T02:54:12.235366Z",
     "start_time": "2020-06-14T02:53:46.078904Z"
    }
   },
   "outputs": [
    {
     "data": {
      "image/png": "[encoded data removed]",
      "text/plain": [
       "<Figure size 432x288 with 1 Axes>"
      ]
     },
     "metadata": {
      "needs_background": "light"
     },
     "output_type": "display_data"
    }
   ],
   "source": [
    "ax = pr_curve(df_bow_ng.iloc[0].to_numpy(),\n",
    "              df_bow_ng.to_numpy(),\n",
    "              euclidean, target_ng[0],\n",
    "              target_ng)\n",
    "ax.set_title('Euclidean distance')\n",
    "ax.text(0.65, 0.8,\n",
    "        'AUC={:0.2f}'.format(\n",
    "            auc_pr(df_bow_ng.iloc[0].to_numpy(),\n",
    "                   df_bow_ng.to_numpy(),\n",
    "                   euclidean, target_ng[0], \n",
    "                   target_ng)),\n",
    "         fontsize=12);"
   ]
  },
  {
   "cell_type": "markdown",
   "metadata": {},
   "source": [
    "Obviously, it got worse and a reason for that is because the documents have different lengths. A longer document will automatically be farther from the origin than a shorter document because the former has less zeros in its vector representation.\n",
    "\n",
    "Let's normalize the documents by their length. There are two ways of doing this. One is by dividing by the number of words in the document ($L_1$-norm), the other is by dividing by their Euclidean length."
   ]
  },
  {
   "cell_type": "markdown",
   "metadata": {
    "deletable": false,
    "editable": false,
    "nbgrader": {
     "cell_type": "markdown",
     "checksum": "3aa24a34ab8a2ce9e8e24f643b0a3820",
     "grade": false,
     "grade_id": "cell-e48209e9c48f4691",
     "locked": true,
     "schema_version": 3,
     "solution": false
    }
   },
   "source": [
    "**Problem 20**\n",
    "\n",
    "Create a function `normalize1` that accepts values and normalizes by their $L_1$-norm."
   ]
  },
  {
   "cell_type": "code",
   "execution_count": 164,
   "metadata": {
    "ExecuteTime": {
     "end_time": "2020-06-14T02:54:12.240933Z",
     "start_time": "2020-06-14T02:54:12.237171Z"
    },
    "deletable": false,
    "nbgrader": {
     "cell_type": "code",
     "checksum": "1d47eca0a3cfa999fd436741347ee28d",
     "grade": false,
     "grade_id": "cell-cdb492864dc471e2",
     "locked": false,
     "schema_version": 3,
     "solution": true
    }
   },
   "outputs": [],
   "source": [
    "def normalize1(values):\n",
    "    \"\"\"Normalizes the values by its L1-norm\"\"\"\n",
    "    values = np.asarray(values)\n",
    "    return values / values.sum(axis=1)[:, None]"
   ]
  },
  {
   "cell_type": "code",
   "execution_count": 165,
   "metadata": {
    "ExecuteTime": {
     "end_time": "2020-06-14T02:54:12.256167Z",
     "start_time": "2020-06-14T02:54:12.242420Z"
    },
    "deletable": false,
    "editable": false,
    "nbgrader": {
     "cell_type": "code",
     "checksum": "fc9d56ef3702e0050cac644c30e232f8",
     "grade": true,
     "grade_id": "cell-2c99f803d1f2042b",
     "locked": true,
     "points": 1,
     "schema_version": 3,
     "solution": false
    }
   },
   "outputs": [],
   "source": [
    "df_test = pd.DataFrame([[5, 6, 0],\n",
    "                        [8, 9, 10],\n",
    "                        [0, 2, 0],\n",
    "                        [1, 2, 0],\n",
    "                        [0, 5, 0]])\n",
    "assert_array_almost_equal(\n",
    "    normalize1(df_test),\n",
    "    [[0.45454545, 0.54545455, 0.        ],\n",
    "     [0.2962963 , 0.33333333, 0.37037037],\n",
    "     [0.        , 1.        , 0.        ],\n",
    "     [0.33333333, 0.66666667, 0.        ],\n",
    "     [0.        , 1.        , 0.        ]])"
   ]
  },
  {
   "cell_type": "markdown",
   "metadata": {
    "deletable": false,
    "editable": false,
    "nbgrader": {
     "cell_type": "markdown",
     "checksum": "fdd15eb19eed0e500f86c20fdb9d4c92",
     "grade": false,
     "grade_id": "cell-f48209e9c48f4691",
     "locked": true,
     "schema_version": 3,
     "solution": false
    }
   },
   "source": [
    "**Problem 21**\n",
    "\n",
    "Create a function `normalize2` that accepts values and normalizes by their $L_2$-norm."
   ]
  },
  {
   "cell_type": "code",
   "execution_count": 167,
   "metadata": {
    "ExecuteTime": {
     "end_time": "2020-06-14T02:54:12.269470Z",
     "start_time": "2020-06-14T02:54:12.259411Z"
    },
    "deletable": false,
    "nbgrader": {
     "cell_type": "code",
     "checksum": "0878a20d16bb91efa4d0027ecaeabf9b",
     "grade": false,
     "grade_id": "cell-ddb492864dc471e2",
     "locked": false,
     "schema_version": 3,
     "solution": true
    }
   },
   "outputs": [],
   "source": [
    "def normalize2(values):\n",
    "    '''Normalizes the values by its L2 norm'''\n",
    "    values = np.asarray(values)\n",
    "    return values / np.sqrt((values**2).sum(axis=1))[:, None]"
   ]
  },
  {
   "cell_type": "code",
   "execution_count": 168,
   "metadata": {
    "ExecuteTime": {
     "end_time": "2020-06-14T02:54:12.287350Z",
     "start_time": "2020-06-14T02:54:12.273017Z"
    },
    "deletable": false,
    "editable": false,
    "nbgrader": {
     "cell_type": "code",
     "checksum": "d8489b712e6bc6f92bfb260e903afeac",
     "grade": true,
     "grade_id": "cell-3c99f803d1f2042b",
     "locked": true,
     "points": 1,
     "schema_version": 3,
     "solution": false
    }
   },
   "outputs": [],
   "source": [
    "df_test = pd.DataFrame([[5, 6, 0],\n",
    "                        [8, 9, 10],\n",
    "                        [0, 2, 0],\n",
    "                        [1, 2, 0],\n",
    "                        [0, 5, 0]])\n",
    "assert_array_almost_equal(\n",
    "    normalize2(df_test),\n",
    "    [[0.6401844 , 0.76822128, 0.        ],\n",
    "     [0.51110125, 0.57498891, 0.63887656],\n",
    "     [0.        , 1.        , 0.        ],\n",
    "     [0.4472136 , 0.89442719, 0.        ],\n",
    "     [0.        , 1.        , 0.        ]])"
   ]
  },
  {
   "cell_type": "markdown",
   "metadata": {},
   "source": [
    "Let's look at their performance."
   ]
  },
  {
   "cell_type": "code",
   "execution_count": 169,
   "metadata": {
    "ExecuteTime": {
     "end_time": "2020-06-14T02:54:38.931090Z",
     "start_time": "2020-06-14T02:54:12.290421Z"
    }
   },
   "outputs": [
    {
     "data": {
      "image/png": "[encoded data removed]",
      "text/plain": [
       "<Figure size 432x288 with 1 Axes>"
      ]
     },
     "metadata": {
      "needs_background": "light"
     },
     "output_type": "display_data"
    }
   ],
   "source": [
    "ax = pr_curve(normalize1(df_bow_ng.iloc[:1].to_numpy()),\n",
    "              normalize1(df_bow_ng.to_numpy()),\n",
    "              euclidean, target_ng[0],\n",
    "              target_ng)\n",
    "ax.set_title('Normalize by number of words')\n",
    "ax.text(0.65, 0.8,\n",
    "        'AUC={:0.2f}'.format(\n",
    "            auc_pr(normalize1(df_bow_ng.iloc[:1].to_numpy()),\n",
    "                   normalize1(df_bow_ng.to_numpy()),\n",
    "                   euclidean, target_ng[0], \n",
    "                   target_ng)),\n",
    "         fontsize=12);"
   ]
  },
  {
   "cell_type": "code",
   "execution_count": 170,
   "metadata": {
    "ExecuteTime": {
     "end_time": "2020-06-14T02:55:05.663217Z",
     "start_time": "2020-06-14T02:54:38.933004Z"
    }
   },
   "outputs": [
    {
     "data": {
      "image/png": "[encoded data removed]",
      "text/plain": [
       "<Figure size 432x288 with 1 Axes>"
      ]
     },
     "metadata": {
      "needs_background": "light"
     },
     "output_type": "display_data"
    }
   ],
   "source": [
    "ax = pr_curve(normalize2(df_bow_ng.iloc[:1].to_numpy()),\n",
    "              normalize2(df_bow_ng.to_numpy()),\n",
    "              euclidean, target_ng[0],\n",
    "              target_ng)\n",
    "ax.set_title('Normalize by number of words')\n",
    "ax.text(0.65, 0.8,\n",
    "        'AUC={:0.2f}'.format(\n",
    "            auc_pr(normalize2(df_bow_ng.iloc[:1].to_numpy()),\n",
    "                   normalize2(df_bow_ng.to_numpy()),\n",
    "                   euclidean, target_ng[0], \n",
    "                   target_ng)),\n",
    "         fontsize=12);"
   ]
  },
  {
   "cell_type": "markdown",
   "metadata": {},
   "source": [
    "Cosine similarity is independent of length because it is actually the dot product of two Euclidean-normalized vectors."
   ]
  },
  {
   "cell_type": "markdown",
   "metadata": {
    "deletable": false,
    "editable": false,
    "nbgrader": {
     "cell_type": "markdown",
     "checksum": "8556741be6d670d43aa1a5b07fb35ad4",
     "grade": false,
     "grade_id": "cell-3001c02a4d0fd626",
     "locked": true,
     "points": 1,
     "schema_version": 3,
     "solution": false,
     "task": true
    }
   },
   "source": [
    "**Problem 22**\n",
    "Show that the cosine similarity of two vectors is the dot product of the vectors after normalizing by their Euclidean norm."
   ]
  },
  {
   "cell_type": "markdown",
   "metadata": {},
   "source": [
    "**Cosine similarity section of Part I**\n",
    "\n",
    "The Cosine similarity is between the following equation:\n",
    "\\begin{equation*}\n",
    "    S_{cos}(\\overrightarrow{v_1},\\overrightarrow{v_2}) = \\frac{\\overrightarrow{v_1}.\\overrightarrow{v_2}}{\\|\\overrightarrow{v_1}\\|\\|\\overrightarrow{v_2}\\|}\n",
    "\\end{equation*}\n",
    "\n",
    " \n",
    "\n",
    "While the Euclidean Normalization  is given by the following equation:\n",
    "\\begin{equation*}\n",
    "    \\|\\overrightarrow{v}\\| = \\sqrt{\\sum_i{\\overrightarrow{v}_i^2}}\n",
    "\\end{equation*}\n",
    "\n",
    " \n",
    "\n",
    "A vector normalized by its Euclidean norm is:\n",
    "\\begin{equation*}\n",
    "    \\frac{\\overrightarrow{v}}{\\|\\overrightarrow{v}\\|}\n",
    "\\end{equation*}\n",
    "\n",
    " \n",
    "\n",
    "And the dot product of these vectors is :\n",
    "\\begin{equation*}\n",
    "    \\frac{\\overrightarrow{v_1}}{\\|\\overrightarrow{v_1}\\|} . \\frac{\\overrightarrow{v_2}}{\\|\\overrightarrow{v_2}\\|}\n",
    "\\end{equation*}\n",
    "\n",
    " \n",
    "\n",
    "Therefore we can finally observed.\n",
    "\\begin{equation*}\n",
    "    \\frac{\\overrightarrow{v_1}.\\overrightarrow{v_2}}{\\|\\overrightarrow{v_1}\\|\\|\\overrightarrow{v_2}\\|}\n",
    "\\end{equation*}"
   ]
  },
  {
   "cell_type": "code",
   "execution_count": null,
   "metadata": {},
   "outputs": [],
   "source": []
  }
 ],
 "metadata": {
  "kernelspec": {
   "display_name": "Python 3",
   "language": "python",
   "name": "python3"
  },
  "language_info": {
   "codemirror_mode": {
    "name": "ipython",
    "version": 3
   },
   "file_extension": ".py",
   "mimetype": "text/x-python",
   "name": "python",
   "nbconvert_exporter": "python",
   "pygments_lexer": "ipython3",
   "version": "3.7.6"
  },
  "toc": {
   "base_numbering": 1,
   "nav_menu": {},
   "number_sections": true,
   "sideBar": true,
   "skip_h1_title": false,
   "title_cell": "Table of Contents",
   "title_sidebar": "Contents",
   "toc_cell": false,
   "toc_position": {},
   "toc_section_display": true,
   "toc_window_display": false
  }
 },
 "nbformat": 4,
 "nbformat_minor": 2
}
